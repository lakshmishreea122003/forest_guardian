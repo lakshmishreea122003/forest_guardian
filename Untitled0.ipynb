{
  "nbformat": 4,
  "nbformat_minor": 0,
  "metadata": {
    "colab": {
      "provenance": [],
      "mount_file_id": "17BaqhwYtivnbTVdc37w1sJFXlNx5equ5",
      "authorship_tag": "ABX9TyP9E6SGRbmcpplDWFVMSzeh",
      "include_colab_link": true
    },
    "kernelspec": {
      "name": "python3",
      "display_name": "Python 3"
    },
    "language_info": {
      "name": "python"
    }
  },
  "cells": [
    {
      "cell_type": "markdown",
      "metadata": {
        "id": "view-in-github",
        "colab_type": "text"
      },
      "source": [
        "<a href=\"https://colab.research.google.com/github/nilam576/forest_guardian/blob/main/Untitled0.ipynb\" target=\"_parent\"><img src=\"https://colab.research.google.com/assets/colab-badge.svg\" alt=\"Open In Colab\"/></a>"
      ]
    },
    {
      "cell_type": "code",
      "source": [
        "!pip install pandas\n",
        "!pip install numpy"
      ],
      "metadata": {
        "colab": {
          "base_uri": "https://localhost:8080/"
        },
        "id": "HVJV4IDvMahT",
        "outputId": "6044706e-ab8d-40c7-ceba-128edb6a1ceb"
      },
      "execution_count": 12,
      "outputs": [
        {
          "output_type": "stream",
          "name": "stdout",
          "text": [
            "Requirement already satisfied: pandas in /usr/local/lib/python3.10/dist-packages (1.5.3)\n",
            "Requirement already satisfied: python-dateutil>=2.8.1 in /usr/local/lib/python3.10/dist-packages (from pandas) (2.8.2)\n",
            "Requirement already satisfied: pytz>=2020.1 in /usr/local/lib/python3.10/dist-packages (from pandas) (2023.3)\n",
            "Requirement already satisfied: numpy>=1.21.0 in /usr/local/lib/python3.10/dist-packages (from pandas) (1.23.5)\n",
            "Requirement already satisfied: six>=1.5 in /usr/local/lib/python3.10/dist-packages (from python-dateutil>=2.8.1->pandas) (1.16.0)\n",
            "Requirement already satisfied: numpy in /usr/local/lib/python3.10/dist-packages (1.23.5)\n"
          ]
        }
      ]
    },
    {
      "cell_type": "code",
      "source": [
        "!pip install scikit_learn\n",
        "!pip install matplotlib"
      ],
      "metadata": {
        "colab": {
          "base_uri": "https://localhost:8080/"
        },
        "id": "tRWvyJyeMbGk",
        "outputId": "56e58f58-015d-42e2-be40-62075f6e2698"
      },
      "execution_count": 13,
      "outputs": [
        {
          "output_type": "stream",
          "name": "stdout",
          "text": [
            "Requirement already satisfied: scikit_learn in /usr/local/lib/python3.10/dist-packages (1.2.2)\n",
            "Requirement already satisfied: numpy>=1.17.3 in /usr/local/lib/python3.10/dist-packages (from scikit_learn) (1.23.5)\n",
            "Requirement already satisfied: scipy>=1.3.2 in /usr/local/lib/python3.10/dist-packages (from scikit_learn) (1.10.1)\n",
            "Requirement already satisfied: joblib>=1.1.1 in /usr/local/lib/python3.10/dist-packages (from scikit_learn) (1.3.2)\n",
            "Requirement already satisfied: threadpoolctl>=2.0.0 in /usr/local/lib/python3.10/dist-packages (from scikit_learn) (3.2.0)\n",
            "Requirement already satisfied: matplotlib in /usr/local/lib/python3.10/dist-packages (3.7.1)\n",
            "Requirement already satisfied: contourpy>=1.0.1 in /usr/local/lib/python3.10/dist-packages (from matplotlib) (1.1.0)\n",
            "Requirement already satisfied: cycler>=0.10 in /usr/local/lib/python3.10/dist-packages (from matplotlib) (0.11.0)\n",
            "Requirement already satisfied: fonttools>=4.22.0 in /usr/local/lib/python3.10/dist-packages (from matplotlib) (4.42.0)\n",
            "Requirement already satisfied: kiwisolver>=1.0.1 in /usr/local/lib/python3.10/dist-packages (from matplotlib) (1.4.4)\n",
            "Requirement already satisfied: numpy>=1.20 in /usr/local/lib/python3.10/dist-packages (from matplotlib) (1.23.5)\n",
            "Requirement already satisfied: packaging>=20.0 in /usr/local/lib/python3.10/dist-packages (from matplotlib) (23.1)\n",
            "Requirement already satisfied: pillow>=6.2.0 in /usr/local/lib/python3.10/dist-packages (from matplotlib) (9.4.0)\n",
            "Requirement already satisfied: pyparsing>=2.3.1 in /usr/local/lib/python3.10/dist-packages (from matplotlib) (3.1.1)\n",
            "Requirement already satisfied: python-dateutil>=2.7 in /usr/local/lib/python3.10/dist-packages (from matplotlib) (2.8.2)\n",
            "Requirement already satisfied: six>=1.5 in /usr/local/lib/python3.10/dist-packages (from python-dateutil>=2.7->matplotlib) (1.16.0)\n"
          ]
        }
      ]
    },
    {
      "cell_type": "code",
      "source": [
        "import numpy\n",
        "import pandas as pd\n",
        "\n",
        "from sklearn.feature_selection import RFE\n",
        "from sklearn.ensemble import ExtraTreesRegressor\n",
        "\n",
        "\n",
        "import matplotlib.pyplot as plt\n",
        "from pandas.plotting import scatter_matrix\n",
        "\n",
        "\n",
        "from sklearn.preprocessing import MinMaxScaler\n",
        "from sklearn.linear_model import LinearRegression\n",
        "from sklearn.linear_model import Ridge\n",
        "from sklearn.linear_model import Lasso\n",
        "from sklearn.linear_model import ElasticNet\n",
        "from sklearn.ensemble import BaggingRegressor\n",
        "from sklearn.ensemble import RandomForestRegressor\n",
        "from sklearn.ensemble import ExtraTreesRegressor\n",
        "from sklearn.tree import DecisionTreeRegressor\n",
        "from sklearn.neighbors import KNeighborsRegressor\n",
        "from sklearn.svm import SVR\n",
        "from sklearn.metrics import explained_variance_score\n",
        "from sklearn.metrics import mean_absolute_error\n",
        "from keras.models import Sequential\n",
        "from keras.layers import Dense\n",
        "from keras.layers import Dropout\n",
        "from keras.utils import np_utils\n",
        "from keras.constraints import maxnorm\n",
        "from sklearn.preprocessing import MinMaxScaler\n",
        "from sklearn.metrics import mean_squared_error\n",
        "from keras.wrappers.scikit_learn import KerasRegressor\n",
        "from sklearn.model_selection import cross_val_score\n",
        "from sklearn.model_selection import KFold\n",
        "from sklearn.preprocessing import StandardScaler\n"
      ],
      "metadata": {
        "id": "g6CdFE93Mnth"
      },
      "execution_count": 14,
      "outputs": []
    },
    {
      "cell_type": "code",
      "source": [
        "df = pd. read_csv(('/content/drive/MyDrive/3.csv'))\n"
      ],
      "metadata": {
        "id": "YgeVbW2cONfM"
      },
      "execution_count": 15,
      "outputs": []
    },
    {
      "cell_type": "code",
      "source": [
        "df.shape"
      ],
      "metadata": {
        "colab": {
          "base_uri": "https://localhost:8080/"
        },
        "id": "_As9TpW1QNnS",
        "outputId": "7d77e2d6-893e-4df2-a0be-e150dfa3f0a8"
      },
      "execution_count": 16,
      "outputs": [
        {
          "output_type": "execute_result",
          "data": {
            "text/plain": [
              "(515, 9)"
            ]
          },
          "metadata": {},
          "execution_count": 16
        }
      ]
    },
    {
      "cell_type": "code",
      "source": [
        "print(df)"
      ],
      "metadata": {
        "id": "Tx7L2ih0T3WG",
        "colab": {
          "base_uri": "https://localhost:8080/"
        },
        "outputId": "8a6e1698-cfcf-4757-d31e-dd4f3cdafbbd"
      },
      "execution_count": 17,
      "outputs": [
        {
          "output_type": "stream",
          "name": "stdout",
          "text": [
            "     month  FFMC    DMC     DC   ISI  temp  RH  wind  class\n",
            "0        3  86.2   26.2   94.3   5.1   8.2  51   6.7      0\n",
            "1       10  90.6   35.4  669.1   6.7  18.0  33   0.9      0\n",
            "2       10  90.6   43.7  686.9   6.7  14.6  33   1.3      0\n",
            "3        3  91.7   33.3   77.5   9.0   8.3  97   4.0      0\n",
            "4        3  89.3   51.3  102.2   9.6  11.4  99   1.8      0\n",
            "..     ...   ...    ...    ...   ...   ...  ..   ...    ...\n",
            "510      8  81.6   56.7  665.6   1.9  27.8  32   2.7      1\n",
            "511      8  81.6   56.7  665.6   1.9  21.9  71   5.8      1\n",
            "512      8  81.6   56.7  665.6   1.9  21.2  70   6.7      1\n",
            "513      8  94.4  146.0  614.7  11.3  25.6  42   4.0      0\n",
            "514     11  79.5    3.0  106.7   1.1  11.8  31   4.5      0\n",
            "\n",
            "[515 rows x 9 columns]\n"
          ]
        }
      ]
    },
    {
      "cell_type": "code",
      "source": [
        "df.describe()"
      ],
      "metadata": {
        "colab": {
          "base_uri": "https://localhost:8080/",
          "height": 300
        },
        "id": "iNDXJXX7Sy7P",
        "outputId": "4cbe78ad-cd63-4347-fded-6cc705a298f1"
      },
      "execution_count": 18,
      "outputs": [
        {
          "output_type": "execute_result",
          "data": {
            "text/plain": [
              "            month        FFMC         DMC          DC         ISI        temp  \\\n",
              "count  515.000000  515.000000  515.000000  515.000000  515.000000  515.000000   \n",
              "mean     7.475728   90.769709  111.027573  548.322136    9.054369   18.898058   \n",
              "std      2.278493    5.142201   64.122317  248.107524    4.537899    5.804097   \n",
              "min      1.000000   18.700000    1.100000    7.900000    0.000000    2.200000   \n",
              "25%      7.000000   90.200000   65.450000  439.300000    6.500000   15.550000   \n",
              "50%      8.000000   91.600000  108.300000  664.200000    8.400000   19.300000   \n",
              "75%      9.000000   92.900000  142.400000  713.900000   10.900000   22.800000   \n",
              "max     12.000000   96.200000  291.300000  860.600000   56.100000   33.300000   \n",
              "\n",
              "               RH        wind       class  \n",
              "count  515.000000  515.000000  515.000000  \n",
              "mean    44.211650    4.020971    0.522330  \n",
              "std     16.221829    1.794096    0.499987  \n",
              "min     15.000000    0.400000    0.000000  \n",
              "25%     32.500000    2.700000    0.000000  \n",
              "50%     42.000000    4.000000    1.000000  \n",
              "75%     53.000000    4.900000    1.000000  \n",
              "max    100.000000    9.400000    1.000000  "
            ],
            "text/html": [
              "\n",
              "  <div id=\"df-5de45713-ffce-4211-8b2b-969c5122d7b2\" class=\"colab-df-container\">\n",
              "    <div>\n",
              "<style scoped>\n",
              "    .dataframe tbody tr th:only-of-type {\n",
              "        vertical-align: middle;\n",
              "    }\n",
              "\n",
              "    .dataframe tbody tr th {\n",
              "        vertical-align: top;\n",
              "    }\n",
              "\n",
              "    .dataframe thead th {\n",
              "        text-align: right;\n",
              "    }\n",
              "</style>\n",
              "<table border=\"1\" class=\"dataframe\">\n",
              "  <thead>\n",
              "    <tr style=\"text-align: right;\">\n",
              "      <th></th>\n",
              "      <th>month</th>\n",
              "      <th>FFMC</th>\n",
              "      <th>DMC</th>\n",
              "      <th>DC</th>\n",
              "      <th>ISI</th>\n",
              "      <th>temp</th>\n",
              "      <th>RH</th>\n",
              "      <th>wind</th>\n",
              "      <th>class</th>\n",
              "    </tr>\n",
              "  </thead>\n",
              "  <tbody>\n",
              "    <tr>\n",
              "      <th>count</th>\n",
              "      <td>515.000000</td>\n",
              "      <td>515.000000</td>\n",
              "      <td>515.000000</td>\n",
              "      <td>515.000000</td>\n",
              "      <td>515.000000</td>\n",
              "      <td>515.000000</td>\n",
              "      <td>515.000000</td>\n",
              "      <td>515.000000</td>\n",
              "      <td>515.000000</td>\n",
              "    </tr>\n",
              "    <tr>\n",
              "      <th>mean</th>\n",
              "      <td>7.475728</td>\n",
              "      <td>90.769709</td>\n",
              "      <td>111.027573</td>\n",
              "      <td>548.322136</td>\n",
              "      <td>9.054369</td>\n",
              "      <td>18.898058</td>\n",
              "      <td>44.211650</td>\n",
              "      <td>4.020971</td>\n",
              "      <td>0.522330</td>\n",
              "    </tr>\n",
              "    <tr>\n",
              "      <th>std</th>\n",
              "      <td>2.278493</td>\n",
              "      <td>5.142201</td>\n",
              "      <td>64.122317</td>\n",
              "      <td>248.107524</td>\n",
              "      <td>4.537899</td>\n",
              "      <td>5.804097</td>\n",
              "      <td>16.221829</td>\n",
              "      <td>1.794096</td>\n",
              "      <td>0.499987</td>\n",
              "    </tr>\n",
              "    <tr>\n",
              "      <th>min</th>\n",
              "      <td>1.000000</td>\n",
              "      <td>18.700000</td>\n",
              "      <td>1.100000</td>\n",
              "      <td>7.900000</td>\n",
              "      <td>0.000000</td>\n",
              "      <td>2.200000</td>\n",
              "      <td>15.000000</td>\n",
              "      <td>0.400000</td>\n",
              "      <td>0.000000</td>\n",
              "    </tr>\n",
              "    <tr>\n",
              "      <th>25%</th>\n",
              "      <td>7.000000</td>\n",
              "      <td>90.200000</td>\n",
              "      <td>65.450000</td>\n",
              "      <td>439.300000</td>\n",
              "      <td>6.500000</td>\n",
              "      <td>15.550000</td>\n",
              "      <td>32.500000</td>\n",
              "      <td>2.700000</td>\n",
              "      <td>0.000000</td>\n",
              "    </tr>\n",
              "    <tr>\n",
              "      <th>50%</th>\n",
              "      <td>8.000000</td>\n",
              "      <td>91.600000</td>\n",
              "      <td>108.300000</td>\n",
              "      <td>664.200000</td>\n",
              "      <td>8.400000</td>\n",
              "      <td>19.300000</td>\n",
              "      <td>42.000000</td>\n",
              "      <td>4.000000</td>\n",
              "      <td>1.000000</td>\n",
              "    </tr>\n",
              "    <tr>\n",
              "      <th>75%</th>\n",
              "      <td>9.000000</td>\n",
              "      <td>92.900000</td>\n",
              "      <td>142.400000</td>\n",
              "      <td>713.900000</td>\n",
              "      <td>10.900000</td>\n",
              "      <td>22.800000</td>\n",
              "      <td>53.000000</td>\n",
              "      <td>4.900000</td>\n",
              "      <td>1.000000</td>\n",
              "    </tr>\n",
              "    <tr>\n",
              "      <th>max</th>\n",
              "      <td>12.000000</td>\n",
              "      <td>96.200000</td>\n",
              "      <td>291.300000</td>\n",
              "      <td>860.600000</td>\n",
              "      <td>56.100000</td>\n",
              "      <td>33.300000</td>\n",
              "      <td>100.000000</td>\n",
              "      <td>9.400000</td>\n",
              "      <td>1.000000</td>\n",
              "    </tr>\n",
              "  </tbody>\n",
              "</table>\n",
              "</div>\n",
              "    <div class=\"colab-df-buttons\">\n",
              "\n",
              "  <div class=\"colab-df-container\">\n",
              "    <button class=\"colab-df-convert\" onclick=\"convertToInteractive('df-5de45713-ffce-4211-8b2b-969c5122d7b2')\"\n",
              "            title=\"Convert this dataframe to an interactive table.\"\n",
              "            style=\"display:none;\">\n",
              "\n",
              "  <svg xmlns=\"http://www.w3.org/2000/svg\" height=\"24px\" viewBox=\"0 -960 960 960\">\n",
              "    <path d=\"M120-120v-720h720v720H120Zm60-500h600v-160H180v160Zm220 220h160v-160H400v160Zm0 220h160v-160H400v160ZM180-400h160v-160H180v160Zm440 0h160v-160H620v160ZM180-180h160v-160H180v160Zm440 0h160v-160H620v160Z\"/>\n",
              "  </svg>\n",
              "    </button>\n",
              "\n",
              "  <style>\n",
              "    .colab-df-container {\n",
              "      display:flex;\n",
              "      gap: 12px;\n",
              "    }\n",
              "\n",
              "    .colab-df-convert {\n",
              "      background-color: #E8F0FE;\n",
              "      border: none;\n",
              "      border-radius: 50%;\n",
              "      cursor: pointer;\n",
              "      display: none;\n",
              "      fill: #1967D2;\n",
              "      height: 32px;\n",
              "      padding: 0 0 0 0;\n",
              "      width: 32px;\n",
              "    }\n",
              "\n",
              "    .colab-df-convert:hover {\n",
              "      background-color: #E2EBFA;\n",
              "      box-shadow: 0px 1px 2px rgba(60, 64, 67, 0.3), 0px 1px 3px 1px rgba(60, 64, 67, 0.15);\n",
              "      fill: #174EA6;\n",
              "    }\n",
              "\n",
              "    .colab-df-buttons div {\n",
              "      margin-bottom: 4px;\n",
              "    }\n",
              "\n",
              "    [theme=dark] .colab-df-convert {\n",
              "      background-color: #3B4455;\n",
              "      fill: #D2E3FC;\n",
              "    }\n",
              "\n",
              "    [theme=dark] .colab-df-convert:hover {\n",
              "      background-color: #434B5C;\n",
              "      box-shadow: 0px 1px 3px 1px rgba(0, 0, 0, 0.15);\n",
              "      filter: drop-shadow(0px 1px 2px rgba(0, 0, 0, 0.3));\n",
              "      fill: #FFFFFF;\n",
              "    }\n",
              "  </style>\n",
              "\n",
              "    <script>\n",
              "      const buttonEl =\n",
              "        document.querySelector('#df-5de45713-ffce-4211-8b2b-969c5122d7b2 button.colab-df-convert');\n",
              "      buttonEl.style.display =\n",
              "        google.colab.kernel.accessAllowed ? 'block' : 'none';\n",
              "\n",
              "      async function convertToInteractive(key) {\n",
              "        const element = document.querySelector('#df-5de45713-ffce-4211-8b2b-969c5122d7b2');\n",
              "        const dataTable =\n",
              "          await google.colab.kernel.invokeFunction('convertToInteractive',\n",
              "                                                    [key], {});\n",
              "        if (!dataTable) return;\n",
              "\n",
              "        const docLinkHtml = 'Like what you see? Visit the ' +\n",
              "          '<a target=\"_blank\" href=https://colab.research.google.com/notebooks/data_table.ipynb>data table notebook</a>'\n",
              "          + ' to learn more about interactive tables.';\n",
              "        element.innerHTML = '';\n",
              "        dataTable['output_type'] = 'display_data';\n",
              "        await google.colab.output.renderOutput(dataTable, element);\n",
              "        const docLink = document.createElement('div');\n",
              "        docLink.innerHTML = docLinkHtml;\n",
              "        element.appendChild(docLink);\n",
              "      }\n",
              "    </script>\n",
              "  </div>\n",
              "\n",
              "\n",
              "<div id=\"df-b11274ab-3dd8-43ae-ae75-54c2dc1e02e4\">\n",
              "  <button class=\"colab-df-quickchart\" onclick=\"quickchart('df-b11274ab-3dd8-43ae-ae75-54c2dc1e02e4')\"\n",
              "            title=\"Suggest charts.\"\n",
              "            style=\"display:none;\">\n",
              "\n",
              "<svg xmlns=\"http://www.w3.org/2000/svg\" height=\"24px\"viewBox=\"0 0 24 24\"\n",
              "     width=\"24px\">\n",
              "    <g>\n",
              "        <path d=\"M19 3H5c-1.1 0-2 .9-2 2v14c0 1.1.9 2 2 2h14c1.1 0 2-.9 2-2V5c0-1.1-.9-2-2-2zM9 17H7v-7h2v7zm4 0h-2V7h2v10zm4 0h-2v-4h2v4z\"/>\n",
              "    </g>\n",
              "</svg>\n",
              "  </button>\n",
              "\n",
              "<style>\n",
              "  .colab-df-quickchart {\n",
              "    background-color: #E8F0FE;\n",
              "    border: none;\n",
              "    border-radius: 50%;\n",
              "    cursor: pointer;\n",
              "    display: none;\n",
              "    fill: #1967D2;\n",
              "    height: 32px;\n",
              "    padding: 0 0 0 0;\n",
              "    width: 32px;\n",
              "  }\n",
              "\n",
              "  .colab-df-quickchart:hover {\n",
              "    background-color: #E2EBFA;\n",
              "    box-shadow: 0px 1px 2px rgba(60, 64, 67, 0.3), 0px 1px 3px 1px rgba(60, 64, 67, 0.15);\n",
              "    fill: #174EA6;\n",
              "  }\n",
              "\n",
              "  [theme=dark] .colab-df-quickchart {\n",
              "    background-color: #3B4455;\n",
              "    fill: #D2E3FC;\n",
              "  }\n",
              "\n",
              "  [theme=dark] .colab-df-quickchart:hover {\n",
              "    background-color: #434B5C;\n",
              "    box-shadow: 0px 1px 3px 1px rgba(0, 0, 0, 0.15);\n",
              "    filter: drop-shadow(0px 1px 2px rgba(0, 0, 0, 0.3));\n",
              "    fill: #FFFFFF;\n",
              "  }\n",
              "</style>\n",
              "\n",
              "  <script>\n",
              "    async function quickchart(key) {\n",
              "      const charts = await google.colab.kernel.invokeFunction(\n",
              "          'suggestCharts', [key], {});\n",
              "    }\n",
              "    (() => {\n",
              "      let quickchartButtonEl =\n",
              "        document.querySelector('#df-b11274ab-3dd8-43ae-ae75-54c2dc1e02e4 button');\n",
              "      quickchartButtonEl.style.display =\n",
              "        google.colab.kernel.accessAllowed ? 'block' : 'none';\n",
              "    })();\n",
              "  </script>\n",
              "</div>\n",
              "    </div>\n",
              "  </div>\n"
            ]
          },
          "metadata": {},
          "execution_count": 18
        }
      ]
    },
    {
      "cell_type": "code",
      "source": [
        "!pip install scikit_learn\n",
        "from sklearn.model_selection import train_test_split\n",
        "from sklearn.preprocessing import LabelEncoder\n",
        "from sklearn.neural_network import MLPClassifier\n",
        "from sklearn.preprocessing import StandardScaler\n",
        "from sklearn.model_selection import train_test_split\n",
        "from sklearn.metrics import confusion_matrix\n",
        "from sklearn.metrics import classification_report\n",
        "import matplotlib.pyplot as plt\n",
        "\n",
        "\n"
      ],
      "metadata": {
        "id": "MjI7jLyXTAk1",
        "colab": {
          "base_uri": "https://localhost:8080/"
        },
        "outputId": "1c4c7e68-02d2-4571-d10b-1cef31678656"
      },
      "execution_count": 19,
      "outputs": [
        {
          "output_type": "stream",
          "name": "stdout",
          "text": [
            "Requirement already satisfied: scikit_learn in /usr/local/lib/python3.10/dist-packages (1.2.2)\n",
            "Requirement already satisfied: numpy>=1.17.3 in /usr/local/lib/python3.10/dist-packages (from scikit_learn) (1.23.5)\n",
            "Requirement already satisfied: scipy>=1.3.2 in /usr/local/lib/python3.10/dist-packages (from scikit_learn) (1.10.1)\n",
            "Requirement already satisfied: joblib>=1.1.1 in /usr/local/lib/python3.10/dist-packages (from scikit_learn) (1.3.2)\n",
            "Requirement already satisfied: threadpoolctl>=2.0.0 in /usr/local/lib/python3.10/dist-packages (from scikit_learn) (3.2.0)\n"
          ]
        }
      ]
    },
    {
      "cell_type": "code",
      "source": [
        "inplist=df.columns[:-1]\n",
        "scale=StandardScaler()\n",
        "df[inplist]=scale.fit_transform(df[inplist])\n",
        "print(df)"
      ],
      "metadata": {
        "id": "38F10a_LTGPY",
        "colab": {
          "base_uri": "https://localhost:8080/"
        },
        "outputId": "40342641-5f05-4f24-8763-01bdc9079374"
      },
      "execution_count": 25,
      "outputs": [
        {
          "output_type": "stream",
          "name": "stdout",
          "text": [
            "        month      FFMC       DMC        DC       ISI      temp        RH  \\\n",
            "0   -1.966247 -0.889532 -1.324189 -1.831720 -0.872257 -1.844983  0.418877   \n",
            "1    1.108946 -0.033035 -1.180573  0.487270 -0.519328 -0.154879 -0.691818   \n",
            "2    1.108946 -0.033035 -1.051007  0.559083 -0.519328 -0.741241 -0.691818   \n",
            "3   -1.966247  0.181089 -1.213355 -1.899499 -0.011993 -1.827737  3.257319   \n",
            "4   -1.966247 -0.286091 -0.932369 -1.799848  0.120356 -1.293112  3.380730   \n",
            "..        ...       ...       ...       ...       ...       ...       ...   \n",
            "510  0.230320 -1.784960 -0.848073  0.473149 -1.578115  1.535225 -0.753523   \n",
            "511  0.230320 -1.784960 -0.848073  0.473149 -1.578115  0.517714  1.652982   \n",
            "512  0.230320 -1.784960 -0.848073  0.473149 -1.578115  0.396992  1.591277   \n",
            "513  0.230320  0.706666  0.545932  0.267797  0.495343  1.155814 -0.136470   \n",
            "514  1.548260 -2.193743 -1.686349 -1.781693 -1.754579 -1.224128 -0.815228   \n",
            "\n",
            "         wind  class  \n",
            "0    1.494699      0  \n",
            "1   -1.741270      0  \n",
            "2   -1.518099      0  \n",
            "3   -0.011700      0  \n",
            "4   -1.239137      0  \n",
            "..        ...    ...  \n",
            "510 -0.737004      1  \n",
            "511  0.992566      1  \n",
            "512  1.494699      1  \n",
            "513 -0.011700      0  \n",
            "514  0.267263      0  \n",
            "\n",
            "[515 rows x 9 columns]\n"
          ]
        }
      ]
    },
    {
      "cell_type": "code",
      "source": [
        "x=df.values[:,:-1]\n",
        "y=df.values[:,-1]\n",
        "x_train,x_test,y_train,y_test=train_test_split(x,y,test_size=0.01,random_state=20)\n",
        "clf=MLPClassifier(hidden_layer_sizes=(3,),activation='logistic',max_iter=148,solver='adam',learning_rate='constant',learning_rate_init=0.18)\n",
        "clf.fit(x_train,y_train)\n",
        "ypred=clf.predict(x_test)\n",
        "cm=confusion_matrix(y_test,ypred)\n",
        "print('Confusion_matrix \\n',cm)\n",
        "print('classification_report \\n',classification_report(y_test,ypred))\n",
        "print('intercepts ',clf.intercepts_)\n",
        "loss_values=clf.loss_curve_\n",
        "plt.plot(loss_values)\n",
        "plt.xlabel('Epochs')\n",
        "plt.ylabel('Loss')\n",
        "plt.show"
      ],
      "metadata": {
        "colab": {
          "base_uri": "https://localhost:8080/",
          "height": 709
        },
        "id": "d01tQS_5RrMe",
        "outputId": "abf41a4b-585a-44ab-c958-bbe979dcc461"
      },
      "execution_count": 56,
      "outputs": [
        {
          "output_type": "stream",
          "name": "stdout",
          "text": [
            "Confusion_matrix \n",
            " [[1 1]\n",
            " [1 3]]\n",
            "classification_report \n",
            "               precision    recall  f1-score   support\n",
            "\n",
            "         0.0       0.50      0.50      0.50         2\n",
            "         1.0       0.75      0.75      0.75         4\n",
            "\n",
            "    accuracy                           0.67         6\n",
            "   macro avg       0.62      0.62      0.62         6\n",
            "weighted avg       0.67      0.67      0.67         6\n",
            "\n",
            "intercepts  [array([-5.12269835,  3.89337081, -5.87374368]), array([-0.94092835])]\n"
          ]
        },
        {
          "output_type": "execute_result",
          "data": {
            "text/plain": [
              "<function matplotlib.pyplot.show(close=None, block=None)>"
            ]
          },
          "metadata": {},
          "execution_count": 56
        },
        {
          "output_type": "display_data",
          "data": {
            "text/plain": [
              "<Figure size 640x480 with 1 Axes>"
            ],
            "image/png": "[encoded data removed]"
          },
          "metadata": {}
        }
      ]
    },
    {
      "cell_type": "code",
      "source": [
        "x=df.values[:,:-1]\n",
        "y=df.values[:,-1]\n",
        "x_train,x_test,y_train,y_test=train_test_split(x,y,test_size=0.01,random_state=20)\n",
        "clf=MLPClassifier(hidden_layer_sizes=(3,),activation='relu',max_iter=148,solver='adam',learning_rate='constant',learning_rate_init=0.18)\n",
        "clf.fit(x_train,y_train)\n",
        "ypred=clf.predict(x_test)\n",
        "cm=confusion_matrix(y_test,ypred)\n",
        "print('Confusion_matrix \\n',cm)\n",
        "print('classification_report \\n',classification_report(y_test,ypred))\n",
        "print('intercepts ',clf.intercepts_)\n",
        "loss_values=clf.loss_curve_\n",
        "plt.plot(loss_values)\n",
        "plt.xlabel('Epochs')\n",
        "plt.ylabel('Loss')\n",
        "plt.show"
      ],
      "metadata": {
        "colab": {
          "base_uri": "https://localhost:8080/",
          "height": 709
        },
        "id": "hXfb49uLWlbx",
        "outputId": "7e49f054-b0f0-4e6c-93d5-6fc52b5dd23d"
      },
      "execution_count": 58,
      "outputs": [
        {
          "output_type": "stream",
          "name": "stdout",
          "text": [
            "Confusion_matrix \n",
            " [[1 1]\n",
            " [3 1]]\n",
            "classification_report \n",
            "               precision    recall  f1-score   support\n",
            "\n",
            "         0.0       0.25      0.50      0.33         2\n",
            "         1.0       0.50      0.25      0.33         4\n",
            "\n",
            "    accuracy                           0.33         6\n",
            "   macro avg       0.38      0.38      0.33         6\n",
            "weighted avg       0.42      0.33      0.33         6\n",
            "\n",
            "intercepts  [array([-0.70769726, -2.96906661, -0.84553866]), array([0.56055721])]\n"
          ]
        },
        {
          "output_type": "execute_result",
          "data": {
            "text/plain": [
              "<function matplotlib.pyplot.show(close=None, block=None)>"
            ]
          },
          "metadata": {},
          "execution_count": 58
        },
        {
          "output_type": "display_data",
          "data": {
            "text/plain": [
              "<Figure size 640x480 with 1 Axes>"
            ],
            "image/png": "[encoded data removed]"
          },
          "metadata": {}
        }
      ]
    },
    {
      "cell_type": "code",
      "source": [
        "x=df.values[:,:-1]\n",
        "y=df.values[:,-1]\n",
        "x_train,x_test,y_train,y_test=train_test_split(x,y,test_size=0.01,random_state=20)\n",
        "clf=MLPClassifier(hidden_layer_sizes=(3,),activation='identity',max_iter=148,solver='adam',learning_rate='constant',learning_rate_init=0.18)\n",
        "clf.fit(x_train,y_train)\n",
        "ypred=clf.predict(x_test)\n",
        "cm=confusion_matrix(y_test,ypred)\n",
        "print('Confusion_matrix \\n',cm)\n",
        "print('classification_report \\n',classification_report(y_test,ypred))\n",
        "print('intercepts ',clf.intercepts_)\n",
        "loss_values=clf.loss_curve_\n",
        "plt.plot(loss_values)\n",
        "plt.xlabel('Epochs')\n",
        "plt.ylabel('Loss')\n",
        "plt.show"
      ],
      "metadata": {
        "colab": {
          "base_uri": "https://localhost:8080/",
          "height": 834
        },
        "id": "D1OmhIdcWliO",
        "outputId": "ec60462a-a428-4401-d508-c614033c8701"
      },
      "execution_count": 61,
      "outputs": [
        {
          "output_type": "stream",
          "name": "stdout",
          "text": [
            "Confusion_matrix \n",
            " [[0 2]\n",
            " [0 4]]\n",
            "classification_report \n",
            "               precision    recall  f1-score   support\n",
            "\n",
            "         0.0       0.00      0.00      0.00         2\n",
            "         1.0       0.67      1.00      0.80         4\n",
            "\n",
            "    accuracy                           0.67         6\n",
            "   macro avg       0.33      0.50      0.40         6\n",
            "weighted avg       0.44      0.67      0.53         6\n",
            "\n",
            "intercepts  [array([ 0.1057701 , -0.13394272,  0.03076833]), array([0.05936833])]\n"
          ]
        },
        {
          "output_type": "stream",
          "name": "stderr",
          "text": [
            "/usr/local/lib/python3.10/dist-packages/sklearn/metrics/_classification.py:1344: UndefinedMetricWarning: Precision and F-score are ill-defined and being set to 0.0 in labels with no predicted samples. Use `zero_division` parameter to control this behavior.\n",
            "  _warn_prf(average, modifier, msg_start, len(result))\n",
            "/usr/local/lib/python3.10/dist-packages/sklearn/metrics/_classification.py:1344: UndefinedMetricWarning: Precision and F-score are ill-defined and being set to 0.0 in labels with no predicted samples. Use `zero_division` parameter to control this behavior.\n",
            "  _warn_prf(average, modifier, msg_start, len(result))\n",
            "/usr/local/lib/python3.10/dist-packages/sklearn/metrics/_classification.py:1344: UndefinedMetricWarning: Precision and F-score are ill-defined and being set to 0.0 in labels with no predicted samples. Use `zero_division` parameter to control this behavior.\n",
            "  _warn_prf(average, modifier, msg_start, len(result))\n"
          ]
        },
        {
          "output_type": "execute_result",
          "data": {
            "text/plain": [
              "<function matplotlib.pyplot.show(close=None, block=None)>"
            ]
          },
          "metadata": {},
          "execution_count": 61
        },
        {
          "output_type": "display_data",
          "data": {
            "text/plain": [
              "<Figure size 640x480 with 1 Axes>"
            ],
            "image/png": "[encoded data removed]"
          },
          "metadata": {}
        }
      ]
    },
    {
      "cell_type": "code",
      "source": [
        "x=df.values[:,:-1]\n",
        "y=df.values[:,-1]\n",
        "x_train,x_test,y_train,y_test=train_test_split(x,y,test_size=0.01,random_state=20)\n",
        "clf=MLPClassifier(hidden_layer_sizes=(3,),activation='tanh',max_iter=148,solver='adam',learning_rate='constant',learning_rate_init=0.18)\n",
        "clf.fit(x_train,y_train)\n",
        "ypred=clf.predict(x_test)\n",
        "cm=confusion_matrix(y_test,ypred)\n",
        "print('Confusion_matrix \\n',cm)\n",
        "print('classification_report \\n',classification_report(y_test,ypred))\n",
        "print('intercepts ',clf.intercepts_)\n",
        "loss_values=clf.loss_curve_\n",
        "plt.plot(loss_values)\n",
        "plt.xlabel('Epochs')\n",
        "plt.ylabel('Loss')\n",
        "plt.show"
      ],
      "metadata": {
        "colab": {
          "base_uri": "https://localhost:8080/",
          "height": 709
        },
        "id": "kyCDzLbRXHGB",
        "outputId": "3e29ad0a-6ced-416c-8d4f-64fcc4d1eae2"
      },
      "execution_count": 62,
      "outputs": [
        {
          "output_type": "stream",
          "name": "stdout",
          "text": [
            "Confusion_matrix \n",
            " [[1 1]\n",
            " [2 2]]\n",
            "classification_report \n",
            "               precision    recall  f1-score   support\n",
            "\n",
            "         0.0       0.33      0.50      0.40         2\n",
            "         1.0       0.67      0.50      0.57         4\n",
            "\n",
            "    accuracy                           0.50         6\n",
            "   macro avg       0.50      0.50      0.49         6\n",
            "weighted avg       0.56      0.50      0.51         6\n",
            "\n",
            "intercepts  [array([-3.2863943 ,  1.92675665,  5.94655968]), array([-0.33690195])]\n"
          ]
        },
        {
          "output_type": "execute_result",
          "data": {
            "text/plain": [
              "<function matplotlib.pyplot.show(close=None, block=None)>"
            ]
          },
          "metadata": {},
          "execution_count": 62
        },
        {
          "output_type": "display_data",
          "data": {
            "text/plain": [
              "<Figure size 640x480 with 1 Axes>"
            ],
            "image/png": "[encoded data removed]"
          },
          "metadata": {}
        }
      ]
    }
  ]
}